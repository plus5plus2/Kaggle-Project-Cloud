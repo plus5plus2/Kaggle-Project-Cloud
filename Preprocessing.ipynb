{
 "cells": [
  {
   "cell_type": "code",
   "execution_count": 1,
   "metadata": {},
   "outputs": [
    {
     "name": "stderr",
     "output_type": "stream",
     "text": [
      "Using Theano backend.\n"
     ]
    }
   ],
   "source": [
    "import numpy as np\n",
    "import pandas as pd\n",
    "from keras.utils import to_categorical\n",
    "import math\n",
    "import matplotlib.pyplot as plt\n",
    "import csv\n",
    "import scipy.misc # to visualize only \n",
    "from scipy.sparse import csr_matrix,save_npz"
   ]
  },
  {
   "cell_type": "code",
   "execution_count": 2,
   "metadata": {},
   "outputs": [
    {
     "name": "stdout",
     "output_type": "stream",
     "text": [
      "load in train_x\n",
      "load in train_y\n",
      "load in test_x\n"
     ]
    }
   ],
   "source": [
    "#load in dataset\n",
    "train_x = pd.read_csv('dataset/train_x.csv', header=None)\n",
    "print 'load in train_x'\n",
    "train_y = pd.read_csv('dataset/train_y.csv', header=None)\n",
    "print 'load in train_y'\n",
    "test_x = pd.read_csv('dataset/test_x.csv', header=None)\n",
    "print 'load in test_x'"
   ]
  },
  {
   "cell_type": "code",
   "execution_count": 3,
   "metadata": {
    "collapsed": true
   },
   "outputs": [],
   "source": [
    "train_x = train_x.values\n",
    "train_x[train_x < 235] = 0\n",
    "train_x=train_x/255.0#normalize\n",
    "\n",
    "train_y = train_y.values\n",
    "\n",
    "test_x = test_x.values\n",
    "test_x[test_x < 235] = 0\n",
    "test_x=test_x/255.0#normalize"
   ]
  },
  {
   "cell_type": "code",
   "execution_count": 4,
   "metadata": {},
   "outputs": [
    {
     "name": "stdout",
     "output_type": "stream",
     "text": [
      "save train_x\n",
      "save test_x\n"
     ]
    }
   ],
   "source": [
    "#convert raw_train_x and raw_test_x to sparse matrix and save\n",
    "save_npz('train_x.npz', csr_matrix(train_x))\n",
    "print 'save train_x'\n",
    "save_npz('test_x.npz', csr_matrix(test_x))\n",
    "print 'save test_x'"
   ]
  },
  {
   "cell_type": "code",
   "execution_count": 5,
   "metadata": {},
   "outputs": [
    {
     "name": "stdout",
     "output_type": "stream",
     "text": [
      "save encoded_train_y\n"
     ]
    }
   ],
   "source": [
    "# convert y to one-hot encoded format and save\n",
    "num_classes=10\n",
    "train_y_encoded = to_categorical(train_y, num_classes).astype(int)\n",
    "save_npz('train_y_encoded.npz', csr_matrix(train_y_encoded))\n",
    "print 'save encoded_train_y'"
   ]
  },
  {
   "cell_type": "code",
   "execution_count": null,
   "metadata": {
    "collapsed": true
   },
   "outputs": [],
   "source": []
  }
 ],
 "metadata": {
  "kernelspec": {
   "display_name": "Python 2",
   "language": "python",
   "name": "python2"
  },
  "language_info": {
   "codemirror_mode": {
    "name": "ipython",
    "version": 2
   },
   "file_extension": ".py",
   "mimetype": "text/x-python",
   "name": "python",
   "nbconvert_exporter": "python",
   "pygments_lexer": "ipython2",
   "version": "2.7.13"
  }
 },
 "nbformat": 4,
 "nbformat_minor": 2
}
